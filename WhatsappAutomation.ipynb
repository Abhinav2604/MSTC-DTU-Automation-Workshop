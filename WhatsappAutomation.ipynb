{
 "cells": [
  {
   "cell_type": "code",
   "execution_count": 23,
   "metadata": {
    "collapsed": true
   },
   "outputs": [],
   "source": [
    "from selenium import webdriver\n",
    "import os\n",
    "import time\n",
    "from selenium.webdriver.common.keys import Keys\n",
    "from selenium.webdriver.common.action_chains import ActionChains\n",
    "import selenium.webdriver.support.ui as ui\n",
    "import selenium.webdriver as webdriver\n"
   ]
  },
  {
   "cell_type": "code",
   "execution_count": 24,
   "metadata": {
    "collapsed": true
   },
   "outputs": [],
   "source": [
    "driver=webdriver.Chrome(executable_path='/Users/ronaksakhuja/AnacondaProjects/chromedriver')\n",
    "driver.get('https://web.whatsapp.com')\n",
    "time.sleep(100)"
   ]
  },
  {
   "cell_type": "code",
   "execution_count": 33,
   "metadata": {},
   "outputs": [],
   "source": [
    "search=driver.find_element_by_id(\"input-chatlist-search\")"
   ]
  },
  {
   "cell_type": "code",
   "execution_count": 38,
   "metadata": {
    "collapsed": true
   },
   "outputs": [],
   "source": [
    "a=[\"<<NAME OF CONTACT>>\"]"
   ]
  },
  {
   "cell_type": "code",
   "execution_count": 39,
   "metadata": {
    "collapsed": true
   },
   "outputs": [],
   "source": [
    "def sendMessage():\n",
    "    for i,number in enumerate(a):\n",
    "        start_time=time.time()\n",
    "        search.send_keys(number)\n",
    "        time.sleep(1)\n",
    "        global count\n",
    "        count+=1\n",
    "        try:\n",
    "            name=driver.find_element_by_class_name(\"chat-body\")\n",
    "            name.click()\n",
    "            writer=driver.find_element_by_class_name(\"pluggable-input-body\")\n",
    "            writer.click()\n",
    "            writer.send_keys(\"Hello \")\n",
    "            writer.send_keys(number)\n",
    "            time.sleep(1)\n",
    "            send=driver.find_element_by_css_selector(\"span[data-icon='send']\")\n",
    "            send.click()\n",
    "            time.sleep(1)\n",
    "        except:\n",
    "            search.clear()\n",
    "            time.sleep(1)\n"
   ]
  },
  {
   "cell_type": "code",
   "execution_count": 42,
   "metadata": {
    "collapsed": true
   },
   "outputs": [],
   "source": [
    "count=0\n",
    "sendMessage()\n"
   ]
  }
 ],
 "metadata": {
  "kernelspec": {
   "display_name": "Python 3",
   "language": "python",
   "name": "python3"
  },
  "language_info": {
   "codemirror_mode": {
    "name": "ipython",
    "version": 3
   },
   "file_extension": ".py",
   "mimetype": "text/x-python",
   "name": "python",
   "nbconvert_exporter": "python",
   "pygments_lexer": "ipython3",
   "version": "3.6.1"
  }
 },
 "nbformat": 4,
 "nbformat_minor": 2
}
